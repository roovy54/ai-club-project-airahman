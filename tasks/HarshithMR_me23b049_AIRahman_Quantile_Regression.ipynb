{
  "nbformat": 4,
  "nbformat_minor": 0,
  "metadata": {
    "colab": {
      "provenance": []
    },
    "kernelspec": {
      "name": "python3",
      "display_name": "Python 3"
    },
    "language_info": {
      "name": "python"
    },
    "accelerator": "GPU"
  },
  "cells": [
    {
      "cell_type": "markdown",
      "source": [
        "# Setup"
      ],
      "metadata": {
        "id": "aVmsGWUFd-tP"
      }
    },
    {
      "cell_type": "code",
      "source": [
        "from google.colab import drive\n",
        "drive.mount('/content/drive')"
      ],
      "metadata": {
        "id": "VMJ4av3_YGjM",
        "colab": {
          "base_uri": "https://localhost:8080/"
        },
        "outputId": "b88c3c7f-9583-4a56-d680-6c2fd31a6960"
      },
      "execution_count": null,
      "outputs": [
        {
          "output_type": "stream",
          "name": "stdout",
          "text": [
            "Mounted at /content/drive\n"
          ]
        }
      ]
    },
    {
      "cell_type": "code",
      "source": [
        "from IPython.display import clear_output\n",
        "\n",
        "!pip3 install pyprind\n",
        "\n",
        "clear_output()"
      ],
      "metadata": {
        "id": "hUT0FSfTbvoc"
      },
      "execution_count": null,
      "outputs": []
    },
    {
      "cell_type": "markdown",
      "source": [
        "# Instructions\n",
        "\n",
        "* Clone the notebook to your drive.\n",
        "* The notebook has to be submitted in the form of a link giving us **view access**. Share this link in your application.\n",
        "\n",
        "* If you still have any queries, you can reach out to the [core team](https://www.notion.so/Club-Contacts-70a4823e0ae34f35a0aa5d479e449915)\n",
        "\n"
      ],
      "metadata": {
        "id": "q3APxWObeA_c"
      }
    },
    {
      "cell_type": "markdown",
      "source": [
        "# Common Technical Questionnaire\n"
      ],
      "metadata": {
        "id": "h0ojuzzfedsb"
      }
    },
    {
      "cell_type": "markdown",
      "source": [
        "### Question 1\n",
        "\n",
        "Supervised learning is a type of machine learning where the inputs and outputs are mapped through\n",
        "a family of equations, the machine learning model essentially picks the right curve to fit the data.\n",
        "Quantile Regression is a type of supervised learning technique used in statistics and economics. One\n",
        "advantage of quantile regression relative to ordinary least squares regression is that the quantile\n",
        "regression estimates are more robust against outliers in the response measurements.\n",
        "\n",
        "QuantileLossτ (y, ˆy) =\n",
        "{\n",
        "\n",
        "                           τ · (y − ˆy) if y > ˆy\n",
        "\n",
        "                          (1 − τ ) · (ˆy − y) if y ≤ ˆy\n",
        "}\n",
        "\n",
        "where τ is Quantile whose value lies between 0 and 1.\n",
        "Please use this template provided and make changes accordingly for this question alone.\n",
        "Implement a simple Neural Network consisting of 4 nodes, one hidden layer consisting of 5 nodes\n",
        "and output layer consisting of two nodes. Perform quantile regression on the model and observe\n",
        "the loss.\n",
        "**Bonus: Play around with the value of τ to find what value achieves convergence quicker.**\n",
        "\n"
      ],
      "metadata": {
        "id": "IFnXRXAWVSkZ"
      }
    },
    {
      "cell_type": "markdown",
      "source": [
        "An example implementation of a simple manual neural network is provided. You may use this as inspiration to complete the task at hand."
      ],
      "metadata": {
        "id": "7bKBykeUZtMq"
      }
    },
    {
      "cell_type": "code",
      "source": [
        "# Imports\n",
        "import torch"
      ],
      "metadata": {
        "id": "y5YhkW3jE58O"
      },
      "execution_count": null,
      "outputs": []
    },
    {
      "cell_type": "code",
      "source": [
        "# Defining the quantile value for regression\n",
        "quantile = 0.5\n",
        "\n",
        "# Setting seed for reproducibility\n",
        "torch.manual_seed(42)\n",
        "\n",
        "# Initialising Parameters and Variables\n",
        "x = torch.rand((2, 4), requires_grad=False)\n",
        "y = torch.rand((2, 2), requires_grad=False)\n",
        "\n",
        "# Weights and Biases connecting input and hidden layer\n",
        "a0 = torch.rand((4, 5), requires_grad=True)\n",
        "b0 = torch.rand((1, 5), requires_grad=True)\n",
        "\n",
        "# Weights and Biases connecting hidden and output layer\n",
        "a1 = torch.rand((5, 2), requires_grad=True)\n",
        "b1 = torch.rand((1, 2), requires_grad=True)\n",
        "\n",
        "# Forward Propagation 1\n",
        "y_1 = x@a0 + b0\n",
        "y_pred1 = y_1@a1 + b1\n",
        "\n",
        "# Defining quantile loss function\n",
        "def loss_function(output, target):\n",
        "  global quantile\n",
        "  error = output - target\n",
        "  loss = torch.max((quantile - 1) * error, quantile * error)\n",
        "  return torch.abs(loss).mean()\n",
        "\n",
        "# Computation of loss\n",
        "loss = loss_function(y_pred1, y)\n",
        "print(loss.item())\n",
        "\n",
        "# Back Propagation 1\n",
        "loss.backward()\n",
        "\n",
        "# Gradient update\n",
        "with torch.no_grad():\n",
        "    a0 = a0 - 0.01*a0.grad\n",
        "    b0 = b0 - 0.01*b0.grad\n",
        "    a1 = a1 - 0.01*a1.grad\n",
        "    b1 = b1 - 0.01*b1.grad\n",
        "\n",
        "# Setting requires_grad to True again as it was modified\n",
        "a0.requires_grad = True\n",
        "a1.requires_grad = True\n",
        "b0.requires_grad = True\n",
        "b1.requires_grad = True\n",
        "\n",
        "# Forward Propagation 2\n",
        "y_2 = x@a0 + b0\n",
        "y_pred2= y_2@a1 + b1\n",
        "\n",
        "# Computation of Loss\n",
        "loss = loss_function(y_pred2, y)\n",
        "print(loss.item())\n",
        "\n",
        "# Back Propagation 2\n",
        "loss.backward()\n",
        "\n",
        "# Gradient Update\n",
        "with torch.no_grad():\n",
        "    a0 = a0 - 0.01*a0.grad\n",
        "    b0 = b0 - 0.01*b0.grad\n",
        "    a1 = a1 - 0.01*a1.grad\n",
        "    b1 = b1 - 0.01*b1.grad\n",
        "\n",
        "# Setting requires_grad to True again as it was modified\n",
        "a0.requires_grad = True\n",
        "a1.requires_grad = True\n",
        "b0.requires_grad = True\n",
        "b1.requires_grad = True\n",
        "\n",
        "# Forward Propagation 2\n",
        "y_3 =  x@a0 + b0\n",
        "y_pred3= y_3@a1 + b1\n",
        "\n",
        "# Computation of Loss\n",
        "loss = loss_function(y_pred3, y)\n",
        "print(loss.item())"
      ],
      "metadata": {
        "id": "XnVdvfk-Zsyr",
        "colab": {
          "base_uri": "https://localhost:8080/"
        },
        "outputId": "b760550e-9966-4b66-c35b-4963ab29b941"
      },
      "execution_count": null,
      "outputs": [
        {
          "output_type": "stream",
          "name": "stdout",
          "text": [
            "3.0106849670410156\n",
            "2.9726624488830566\n",
            "2.935065269470215\n"
          ]
        }
      ]
    },
    {
      "cell_type": "code",
      "source": [],
      "metadata": {
        "id": "R3PJgvA2Pmqn"
      },
      "execution_count": null,
      "outputs": []
    },
    {
      "cell_type": "markdown",
      "source": [
        "# Convergence Test\n",
        "From the experiment performed below quantile value of 0.5 converges faster.\n",
        "\n",
        "Quantile value taken:  0.1\n",
        "\n",
        "Number of epochs taken to converge:  7677\n",
        "\n",
        "Quantile value taken:  0.2\n",
        "\n",
        "Number of epochs taken to converge:  3813\n",
        "\n",
        "Quantile value taken:  0.3\n",
        "\n",
        "Number of epochs taken to converge:  2538\n",
        "\n",
        "Quantile value taken:  0.4\n",
        "\n",
        "Number of epochs taken to converge:  1879\n",
        "\n",
        "Quantile value taken:  0.5\n",
        "\n",
        "Number of epochs taken to converge:  1780\n",
        "\n",
        "Quantile value taken:  0.6\n",
        "\n",
        "Number of epochs taken to converge:  2162\n",
        "\n",
        "Quantile value taken:  0.7\n",
        "\n",
        "Number of epochs taken to converge:  2814\n",
        "\n",
        "Quantile value taken:  0.8\n",
        "\n",
        "Number of epochs taken to converge:  4185\n",
        "\n",
        "Quantile value taken:  0.9\n",
        "\n",
        "Number of epochs taken to converge:  8282"
      ],
      "metadata": {
        "id": "mlLWcI55snDU"
      }
    },
    {
      "cell_type": "code",
      "source": [
        "import math\n",
        "import numpy as np\n",
        "\n",
        "epoch_list = []\n",
        "quantile_list = []\n",
        "\n",
        "for i in range(9):\n",
        "  # Defining the quantile value for regression\n",
        "  quantile = 0.1*(i+1)\n",
        "  quantile_list.append(quantile)\n",
        "\n",
        "  # Setting seed for reproducibility\n",
        "  torch.manual_seed(42)\n",
        "\n",
        "  # Initialising Parameters and Variables\n",
        "  x = torch.rand((2, 4), requires_grad=False)\n",
        "  y = torch.rand((2, 2), requires_grad=False)\n",
        "\n",
        "  # Weights and Biases connecting input and hidden layer\n",
        "  a0 = torch.rand((4, 5), requires_grad=True)\n",
        "  b0 = torch.rand((1, 5), requires_grad=True)\n",
        "\n",
        "  # Weights and Biases connecting hidden and output layer\n",
        "  a1 = torch.rand((5, 2), requires_grad=True)\n",
        "  b1 = torch.rand((1, 2), requires_grad=True)\n",
        "\n",
        "  loss = math.inf\n",
        "  epochs = 0\n",
        "  y_predt = torch.zeros((2, 2))\n",
        "\n",
        "  while not torch.allclose(y, y_predt, atol=1e-1):\n",
        "    # Forward Propagation\n",
        "    y_t = x@a0 + b0\n",
        "    y_predt = y_t@a1 + b1\n",
        "\n",
        "    # Computation of loss\n",
        "    loss = loss_function(y_predt, y)\n",
        "    # print(loss.item())\n",
        "\n",
        "    # Back Propagation\n",
        "    loss.backward()\n",
        "\n",
        "    # Gradient update\n",
        "    with torch.no_grad():\n",
        "        a0 = a0 - 0.01*a0.grad\n",
        "        b0 = b0 - 0.01*b0.grad\n",
        "        a1 = a1 - 0.01*a1.grad\n",
        "        b1 = b1 - 0.01*b1.grad\n",
        "\n",
        "    # Setting requires_grad to True again as it was modified\n",
        "    a0.requires_grad = True\n",
        "    a1.requires_grad = True\n",
        "    b0.requires_grad = True\n",
        "    b1.requires_grad = True\n",
        "\n",
        "    epochs += 1\n",
        "\n",
        "  epoch_list.append(epochs)\n",
        "  print(\"Quantile value taken: \", round(quantile, 1))\n",
        "  print(\"Number of epochs taken to converge: \", epochs)\n",
        "  print()"
      ],
      "metadata": {
        "id": "r4Ox94qZspLC",
        "colab": {
          "base_uri": "https://localhost:8080/"
        },
        "outputId": "f8a79ff7-4040-4240-bf45-e4c0d2bfb2de"
      },
      "execution_count": null,
      "outputs": [
        {
          "output_type": "stream",
          "name": "stdout",
          "text": [
            "Quantile value taken:  0.1\n",
            "Number of epochs taken to converge:  7677\n",
            "\n",
            "Quantile value taken:  0.2\n",
            "Number of epochs taken to converge:  3813\n",
            "\n",
            "Quantile value taken:  0.3\n",
            "Number of epochs taken to converge:  2538\n",
            "\n",
            "Quantile value taken:  0.4\n",
            "Number of epochs taken to converge:  1879\n",
            "\n",
            "Quantile value taken:  0.5\n",
            "Number of epochs taken to converge:  1780\n",
            "\n",
            "Quantile value taken:  0.6\n",
            "Number of epochs taken to converge:  2162\n",
            "\n",
            "Quantile value taken:  0.7\n",
            "Number of epochs taken to converge:  2814\n",
            "\n",
            "Quantile value taken:  0.8\n",
            "Number of epochs taken to converge:  4185\n",
            "\n",
            "Quantile value taken:  0.9\n",
            "Number of epochs taken to converge:  8282\n",
            "\n"
          ]
        }
      ]
    },
    {
      "cell_type": "code",
      "source": [
        "import matplotlib.pyplot as plt\n",
        "\n",
        "\n",
        "# Create a figure and axes\n",
        "fig, ax = plt.subplots()\n",
        "\n",
        "# Plot the data\n",
        "ax.plot(quantile_list, epoch_list)\n",
        "\n",
        "# Add labels and title\n",
        "ax.set_xlabel('quantile')\n",
        "ax.set_ylabel('epochs')\n",
        "ax.set_title('Convergence Test')\n",
        "\n",
        "# Display the plot\n",
        "plt.show()"
      ],
      "metadata": {
        "id": "1PddpOcOznXU",
        "colab": {
          "base_uri": "https://localhost:8080/",
          "height": 472
        },
        "outputId": "af645442-dfc0-4a3a-c0b4-5f1d20cf5a7e"
      },
      "execution_count": null,
      "outputs": [
        {
          "output_type": "display_data",
          "data": {
            "text/plain": [
              "<Figure size 640x480 with 1 Axes>"
            ],
            "image/png": "[encoded data removed]"
          },
          "metadata": {}
        }
      ]
    },
    {
      "cell_type": "code",
      "source": [
        "def mse_loss(actual_values, predicted_values):\n",
        "    # Calculate squared differences\n",
        "    squared_diff = (actual_values - predicted_values) ** 2\n",
        "\n",
        "    # Calculate mean squared error\n",
        "    mse = torch.mean(squared_diff)\n",
        "\n",
        "    return mse"
      ],
      "metadata": {
        "id": "Jt2IQKxkPpBJ"
      },
      "execution_count": null,
      "outputs": []
    },
    {
      "cell_type": "markdown",
      "source": [
        "---"
      ],
      "metadata": {
        "id": "izhl-9Wta_uu"
      }
    },
    {
      "cell_type": "code",
      "source": [
        "# Setting seed for reproducibility\n",
        "torch.manual_seed(42)\n",
        "\n",
        "# Initialising Parameters and Variables\n",
        "x = torch.rand((2, 4), requires_grad=False)\n",
        "y = torch.rand((2, 2), requires_grad=False)\n",
        "\n",
        "# Weights and Biases connecting input and hidden layer\n",
        "a0 = torch.rand((4, 5), requires_grad=True)\n",
        "b0 = torch.rand((1, 5), requires_grad=True)\n",
        "\n",
        "# Weights and Biases connecting hidden and output layer\n",
        "a1 = torch.rand((5, 2), requires_grad=True)\n",
        "b1 = torch.rand((1, 2), requires_grad=True)\n",
        "\n",
        "loss = math.inf\n",
        "epochs = 0\n",
        "y_predt = torch.zeros((2, 2))\n",
        "\n",
        "while not torch.allclose(y, y_predt, atol=1e-1):\n",
        "  # Forward Propagation\n",
        "  y_t = x@a0 + b0\n",
        "  y_predt = y_t@a1 + b1\n",
        "\n",
        "  # Computation of loss\n",
        "  loss = mse_loss(y_predt, y)\n",
        "  # print(loss.item())\n",
        "\n",
        "  # Back Propagation\n",
        "  loss.backward()\n",
        "\n",
        "  # Gradient update\n",
        "  with torch.no_grad():\n",
        "      a0 = a0 - 0.01*a0.grad\n",
        "      b0 = b0 - 0.01*b0.grad\n",
        "      a1 = a1 - 0.01*a1.grad\n",
        "      b1 = b1 - 0.01*b1.grad\n",
        "\n",
        "  # Setting requires_grad to True again as it was modified\n",
        "  a0.requires_grad = True\n",
        "  a1.requires_grad = True\n",
        "  b0.requires_grad = True\n",
        "  b1.requires_grad = True\n",
        "\n",
        "  epochs += 1\n",
        "\n",
        "epoch_list.append(epochs)\n",
        "print(\"Number of epochs taken to converge: \", epochs)\n",
        "print()"
      ],
      "metadata": {
        "colab": {
          "base_uri": "https://localhost:8080/"
        },
        "id": "wW0dz6I1PY1Z",
        "outputId": "b8b6514a-cd43-4335-e17d-bad850a3bab2"
      },
      "execution_count": null,
      "outputs": [
        {
          "output_type": "stream",
          "name": "stdout",
          "text": [
            "Number of epochs taken to converge:  2015\n",
            "\n"
          ]
        }
      ]
    },
    {
      "cell_type": "code",
      "source": [],
      "metadata": {
        "id": "3gicTWImPbUo"
      },
      "execution_count": null,
      "outputs": []
    }
  ]
}